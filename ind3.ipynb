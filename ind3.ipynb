{
  "nbformat": 4,
  "nbformat_minor": 0,
  "metadata": {
    "colab": {
      "provenance": [],
      "authorship_tag": "ABX9TyMk4oDUxj/8qqrToyDXUD2g",
      "include_colab_link": true
    },
    "kernelspec": {
      "name": "python3",
      "display_name": "Python 3"
    },
    "language_info": {
      "name": "python"
    }
  },
  "cells": [
    {
      "cell_type": "markdown",
      "metadata": {
        "id": "view-in-github",
        "colab_type": "text"
      },
      "source": [
        "<a href=\"https://colab.research.google.com/github/hexe007/pro_12/blob/main/ind3.ipynb\" target=\"_parent\"><img src=\"https://colab.research.google.com/assets/colab-badge.svg\" alt=\"Open In Colab\"/></a>"
      ]
    },
    {
      "cell_type": "code",
      "execution_count": 1,
      "metadata": {
        "id": "A-Xnb3A5NCfo"
      },
      "outputs": [],
      "source": [
        "# Aim of the project: Implement the AI techniques to automate verification of produced sensors.\n",
        "# Characteristics will be verified in order to configure by:\n",
        "# Air, Water, Isopropanol\n",
        "\n",
        "# Essential Exploratory data analysis (EDA),analyze and investigate data sets and summarize their main characteristics.\n",
        "import pandas as pd\n",
        "import numpy as np"
      ]
    },
    {
      "cell_type": "code",
      "source": [
        "# Plotting Packages, appealing plots to present data in the most simple and effective way.\n",
        "import matplotlib.pyplot as plt\n",
        "import seaborn as sns\n",
        "import pandas.testing"
      ],
      "metadata": {
        "id": "OHkYXzxbQaB1"
      },
      "execution_count": 4,
      "outputs": []
    },
    {
      "cell_type": "markdown",
      "source": [],
      "metadata": {
        "id": "6qkyUgw08gk5"
      }
    },
    {
      "cell_type": "code",
      "source": [
        "# Machine Learning Packages\n",
        "    #Matplotlib - for plotting data in graphs and charts\n",
        "    #NLTK - natural language toolkit for working with text\n",
        "    #pandas - the premier data analysis tool for Python\n",
        "    #scikit-learn - simplifies the implementation of different algorithms\n",
        "    #Seaborn - for making statistical graphs\n",
        "    #Numpy - for multi-dimensional array and matrix processing\n",
        "    #Keras - high-level API that greatly simplifies working with TensorFlow\n",
        "    #SciPy - for easy handling of mathematical operations\n",
        "    #PyTorch - simplifies the creation of neural networks using dynamic graphs\n",
        "    #TensorFlow - simplifies the creation of neural networks using static graphs\n",
        "\n",
        "from sklearn import model_selection\n",
        "from sklearn.metrics import classification_report\n",
        "from sklearn.metrics import confusion_matrix\n",
        "from sklearn.metrics import accuracy_score\n",
        "from sklearn.linear_model import LogisticRegression"
      ],
      "metadata": {
        "id": "9bSvyUemREL-"
      },
      "execution_count": 5,
      "outputs": []
    },
    {
      "cell_type": "code",
      "source": [
        "#Load data from data source\n",
        "#I am loading a txt files containig a mix data.\n",
        "#I want to store them in an object where I can access each element.\n",
        "\n",
        "path = 'https://raw.githubusercontent.com/hexe007/pro_12/main/sesion/'\n",
        "prefix = 'sesion_'\n",
        "ref = '_20'\n",
        "extension = '.txt'\n",
        "\n",
        "prefix_number = 10 #number of given file sets to be loaded, 2 digits with leading 0\n",
        "\n",
        "medium_validation = np.array(['air', 'water', 'izopropanol']) #array of given validations medium\n",
        "medium_collection = {}\n",
        "\n",
        "prefix_number_array = []\n",
        "\n",
        "for x in range(prefix_number):\n",
        "  x += 1\n",
        "  prefix_number_array.append(str(x).zfill(2))\n",
        "\n",
        "for i in medium_validation:\n",
        "  for x in prefix_number_array:\n",
        "    url = path + prefix  + x + ref + '/sensor' + x + '_' + i + extension\n",
        "    medium_collection[i, x] = pd.read_csv(url, names=['Amplitude', 'Wavelenght'])\n",
        "    #medium_collection[i, x] = pd.read_csv(url)\n",
        "\n",
        "#medium_collection.keys()\n",
        "#medium_collection.items()\n",
        "prefix_number_array"
      ],
      "metadata": {
        "colab": {
          "base_uri": "https://localhost:8080/"
        },
        "outputId": "16a50f37-01b1-4e88-efb5-b03a799796d9",
        "id": "tWhlUA5Lap_l"
      },
      "execution_count": 193,
      "outputs": [
        {
          "output_type": "execute_result",
          "data": {
            "text/plain": [
              "['01', '02', '03', '04', '05', '06', '07', '08', '09', '10']"
            ]
          },
          "metadata": {},
          "execution_count": 193
        }
      ]
    },
    {
      "cell_type": "code",
      "source": [
        "for _p_n in ['01', '02', '03', '04', '05', '06', '07', '08']:\n",
        "  arr = medium_collection['air', _p_n].values\n",
        "  x = arr[:,0:1]\n",
        "  y = arr[:,1]\n",
        "  plt.ylabel(\"Amplitude\")\n",
        "  plt.xlabel(\"Wavelenght\")\n",
        "  plt.plot(x,y)\n",
        "\n",
        "  #plt.plot(medium_collection['water',_p_n])\n",
        "  #plt.plot(medium_collection['izopropanol',_p_n])"
      ],
      "metadata": {
        "colab": {
          "base_uri": "https://localhost:8080/",
          "height": 279
        },
        "id": "wBBsOJkNcbrM",
        "outputId": "1f695ce0-05d4-49c1-c8ad-c7cd9fd0011c"
      },
      "execution_count": 204,
      "outputs": [
        {
          "output_type": "display_data",
          "data": {
            "text/plain": [
              "<Figure size 432x288 with 1 Axes>"
            ],
            "image/png": "[encoded data removed]"
          },
          "metadata": {
            "needs_background": "light"
          }
        }
      ]
    },
    {
      "cell_type": "code",
      "source": [
        "for _p_n in ['01', '02', '03', '04', '05', '06', '07', '08']:\n",
        "  arr = medium_collection['water', _p_n].values\n",
        "  x = arr[:,0:1]\n",
        "  y = arr[:,1]\n",
        "  plt.ylabel(\"Amplitude\")\n",
        "  plt.xlabel(\"Wavelenght\")\n",
        "  plt.plot(x,y)"
      ],
      "metadata": {
        "colab": {
          "base_uri": "https://localhost:8080/",
          "height": 279
        },
        "id": "I5Ps8BDbn9pG",
        "outputId": "6c2c70ef-c40b-428d-a5e4-c1d27024207c"
      },
      "execution_count": 205,
      "outputs": [
        {
          "output_type": "display_data",
          "data": {
            "text/plain": [
              "<Figure size 432x288 with 1 Axes>"
            ],
            "image/png": "[encoded data removed]"
          },
          "metadata": {
            "needs_background": "light"
          }
        }
      ]
    },
    {
      "cell_type": "code",
      "source": [
        "for _p_n in ['01', '02', '03', '04', '05', '06', '07', '08']:\n",
        "  arr = medium_collection['izopropanol', _p_n].values\n",
        "  x = arr[:,0:1]\n",
        "  y = arr[:,1]\n",
        "  plt.ylabel(\"Amplitude\")\n",
        "  plt.xlabel(\"Wavelenght\")\n",
        "  plt.plot(x,y)"
      ],
      "metadata": {
        "colab": {
          "base_uri": "https://localhost:8080/",
          "height": 279
        },
        "id": "fFsq8TgOoB-I",
        "outputId": "5c32d7f5-a398-4413-bea2-010796664de9"
      },
      "execution_count": 206,
      "outputs": [
        {
          "output_type": "display_data",
          "data": {
            "text/plain": [
              "<Figure size 432x288 with 1 Axes>"
            ],
            "image/png": "[encoded data removed]"
          },
          "metadata": {
            "needs_background": "light"
          }
        }
      ]
    },
    {
      "cell_type": "code",
      "source": [
        "df_sensor01_izopropanol= pd.read_csv('/content/sensor01_izopropanol.txt')\n",
        "df_sensor01_izopropanol.head()"
      ],
      "metadata": {
        "colab": {
          "base_uri": "https://localhost:8080/",
          "height": 206
        },
        "id": "YKKBDFtEuf7w",
        "outputId": "30ca9597-f39c-4ee6-95a2-dc56cf355758"
      },
      "execution_count": null,
      "outputs": [
        {
          "output_type": "execute_result",
          "data": {
            "text/plain": [
              "   1.35e-06  8.5551\n",
              "0  0.000001  8.6750\n",
              "1  0.000001  8.7116\n",
              "2  0.000001  8.7157\n",
              "3  0.000001  8.6792\n",
              "4  0.000001  8.6312"
            ],
            "text/html": [
              "\n",
              "  <div id=\"df-09bc1f36-7187-4086-a046-8b0425f369e9\">\n",
              "    <div class=\"colab-df-container\">\n",
              "      <div>\n",
              "<style scoped>\n",
              "    .dataframe tbody tr th:only-of-type {\n",
              "        vertical-align: middle;\n",
              "    }\n",
              "\n",
              "    .dataframe tbody tr th {\n",
              "        vertical-align: top;\n",
              "    }\n",
              "\n",
              "    .dataframe thead th {\n",
              "        text-align: right;\n",
              "    }\n",
              "</style>\n",
              "<table border=\"1\" class=\"dataframe\">\n",
              "  <thead>\n",
              "    <tr style=\"text-align: right;\">\n",
              "      <th></th>\n",
              "      <th>1.35e-06</th>\n",
              "      <th>8.5551</th>\n",
              "    </tr>\n",
              "  </thead>\n",
              "  <tbody>\n",
              "    <tr>\n",
              "      <th>0</th>\n",
              "      <td>0.000001</td>\n",
              "      <td>8.6750</td>\n",
              "    </tr>\n",
              "    <tr>\n",
              "      <th>1</th>\n",
              "      <td>0.000001</td>\n",
              "      <td>8.7116</td>\n",
              "    </tr>\n",
              "    <tr>\n",
              "      <th>2</th>\n",
              "      <td>0.000001</td>\n",
              "      <td>8.7157</td>\n",
              "    </tr>\n",
              "    <tr>\n",
              "      <th>3</th>\n",
              "      <td>0.000001</td>\n",
              "      <td>8.6792</td>\n",
              "    </tr>\n",
              "    <tr>\n",
              "      <th>4</th>\n",
              "      <td>0.000001</td>\n",
              "      <td>8.6312</td>\n",
              "    </tr>\n",
              "  </tbody>\n",
              "</table>\n",
              "</div>\n",
              "      <button class=\"colab-df-convert\" onclick=\"convertToInteractive('df-09bc1f36-7187-4086-a046-8b0425f369e9')\"\n",
              "              title=\"Convert this dataframe to an interactive table.\"\n",
              "              style=\"display:none;\">\n",
              "        \n",
              "  <svg xmlns=\"http://www.w3.org/2000/svg\" height=\"24px\"viewBox=\"0 0 24 24\"\n",
              "       width=\"24px\">\n",
              "    <path d=\"M0 0h24v24H0V0z\" fill=\"none\"/>\n",
              "    <path d=\"M18.56 5.44l.94 2.06.94-2.06 2.06-.94-2.06-.94-.94-2.06-.94 2.06-2.06.94zm-11 1L8.5 8.5l.94-2.06 2.06-.94-2.06-.94L8.5 2.5l-.94 2.06-2.06.94zm10 10l.94 2.06.94-2.06 2.06-.94-2.06-.94-.94-2.06-.94 2.06-2.06.94z\"/><path d=\"M17.41 7.96l-1.37-1.37c-.4-.4-.92-.59-1.43-.59-.52 0-1.04.2-1.43.59L10.3 9.45l-7.72 7.72c-.78.78-.78 2.05 0 2.83L4 21.41c.39.39.9.59 1.41.59.51 0 1.02-.2 1.41-.59l7.78-7.78 2.81-2.81c.8-.78.8-2.07 0-2.86zM5.41 20L4 18.59l7.72-7.72 1.47 1.35L5.41 20z\"/>\n",
              "  </svg>\n",
              "      </button>\n",
              "      \n",
              "  <style>\n",
              "    .colab-df-container {\n",
              "      display:flex;\n",
              "      flex-wrap:wrap;\n",
              "      gap: 12px;\n",
              "    }\n",
              "\n",
              "    .colab-df-convert {\n",
              "      background-color: #E8F0FE;\n",
              "      border: none;\n",
              "      border-radius: 50%;\n",
              "      cursor: pointer;\n",
              "      display: none;\n",
              "      fill: #1967D2;\n",
              "      height: 32px;\n",
              "      padding: 0 0 0 0;\n",
              "      width: 32px;\n",
              "    }\n",
              "\n",
              "    .colab-df-convert:hover {\n",
              "      background-color: #E2EBFA;\n",
              "      box-shadow: 0px 1px 2px rgba(60, 64, 67, 0.3), 0px 1px 3px 1px rgba(60, 64, 67, 0.15);\n",
              "      fill: #174EA6;\n",
              "    }\n",
              "\n",
              "    [theme=dark] .colab-df-convert {\n",
              "      background-color: #3B4455;\n",
              "      fill: #D2E3FC;\n",
              "    }\n",
              "\n",
              "    [theme=dark] .colab-df-convert:hover {\n",
              "      background-color: #434B5C;\n",
              "      box-shadow: 0px 1px 3px 1px rgba(0, 0, 0, 0.15);\n",
              "      filter: drop-shadow(0px 1px 2px rgba(0, 0, 0, 0.3));\n",
              "      fill: #FFFFFF;\n",
              "    }\n",
              "  </style>\n",
              "\n",
              "      <script>\n",
              "        const buttonEl =\n",
              "          document.querySelector('#df-09bc1f36-7187-4086-a046-8b0425f369e9 button.colab-df-convert');\n",
              "        buttonEl.style.display =\n",
              "          google.colab.kernel.accessAllowed ? 'block' : 'none';\n",
              "\n",
              "        async function convertToInteractive(key) {\n",
              "          const element = document.querySelector('#df-09bc1f36-7187-4086-a046-8b0425f369e9');\n",
              "          const dataTable =\n",
              "            await google.colab.kernel.invokeFunction('convertToInteractive',\n",
              "                                                     [key], {});\n",
              "          if (!dataTable) return;\n",
              "\n",
              "          const docLinkHtml = 'Like what you see? Visit the ' +\n",
              "            '<a target=\"_blank\" href=https://colab.research.google.com/notebooks/data_table.ipynb>data table notebook</a>'\n",
              "            + ' to learn more about interactive tables.';\n",
              "          element.innerHTML = '';\n",
              "          dataTable['output_type'] = 'display_data';\n",
              "          await google.colab.output.renderOutput(dataTable, element);\n",
              "          const docLink = document.createElement('div');\n",
              "          docLink.innerHTML = docLinkHtml;\n",
              "          element.appendChild(docLink);\n",
              "        }\n",
              "      </script>\n",
              "    </div>\n",
              "  </div>\n",
              "  "
            ]
          },
          "metadata": {},
          "execution_count": 38
        }
      ]
    },
    {
      "cell_type": "code",
      "source": [
        "df_sensor01_water= pd.read_csv('/content/sensor01_water.txt')\n",
        "df_sensor01_water.head()"
      ],
      "metadata": {
        "colab": {
          "base_uri": "https://localhost:8080/",
          "height": 206
        },
        "id": "fCCLfN6Su1p7",
        "outputId": "25d8df41-5c9d-498a-c493-fb8c58a58603"
      },
      "execution_count": null,
      "outputs": [
        {
          "output_type": "execute_result",
          "data": {
            "text/plain": [
              "   1.35e-06   8.357\n",
              "0  0.000001  8.4287\n",
              "1  0.000001  8.4422\n",
              "2  0.000001  8.4144\n",
              "3  0.000001  8.4034\n",
              "4  0.000001  8.3351"
            ],
            "text/html": [
              "\n",
              "  <div id=\"df-721a1524-7f17-41f0-b3c0-5736d6670622\">\n",
              "    <div class=\"colab-df-container\">\n",
              "      <div>\n",
              "<style scoped>\n",
              "    .dataframe tbody tr th:only-of-type {\n",
              "        vertical-align: middle;\n",
              "    }\n",
              "\n",
              "    .dataframe tbody tr th {\n",
              "        vertical-align: top;\n",
              "    }\n",
              "\n",
              "    .dataframe thead th {\n",
              "        text-align: right;\n",
              "    }\n",
              "</style>\n",
              "<table border=\"1\" class=\"dataframe\">\n",
              "  <thead>\n",
              "    <tr style=\"text-align: right;\">\n",
              "      <th></th>\n",
              "      <th>1.35e-06</th>\n",
              "      <th>8.357</th>\n",
              "    </tr>\n",
              "  </thead>\n",
              "  <tbody>\n",
              "    <tr>\n",
              "      <th>0</th>\n",
              "      <td>0.000001</td>\n",
              "      <td>8.4287</td>\n",
              "    </tr>\n",
              "    <tr>\n",
              "      <th>1</th>\n",
              "      <td>0.000001</td>\n",
              "      <td>8.4422</td>\n",
              "    </tr>\n",
              "    <tr>\n",
              "      <th>2</th>\n",
              "      <td>0.000001</td>\n",
              "      <td>8.4144</td>\n",
              "    </tr>\n",
              "    <tr>\n",
              "      <th>3</th>\n",
              "      <td>0.000001</td>\n",
              "      <td>8.4034</td>\n",
              "    </tr>\n",
              "    <tr>\n",
              "      <th>4</th>\n",
              "      <td>0.000001</td>\n",
              "      <td>8.3351</td>\n",
              "    </tr>\n",
              "  </tbody>\n",
              "</table>\n",
              "</div>\n",
              "      <button class=\"colab-df-convert\" onclick=\"convertToInteractive('df-721a1524-7f17-41f0-b3c0-5736d6670622')\"\n",
              "              title=\"Convert this dataframe to an interactive table.\"\n",
              "              style=\"display:none;\">\n",
              "        \n",
              "  <svg xmlns=\"http://www.w3.org/2000/svg\" height=\"24px\"viewBox=\"0 0 24 24\"\n",
              "       width=\"24px\">\n",
              "    <path d=\"M0 0h24v24H0V0z\" fill=\"none\"/>\n",
              "    <path d=\"M18.56 5.44l.94 2.06.94-2.06 2.06-.94-2.06-.94-.94-2.06-.94 2.06-2.06.94zm-11 1L8.5 8.5l.94-2.06 2.06-.94-2.06-.94L8.5 2.5l-.94 2.06-2.06.94zm10 10l.94 2.06.94-2.06 2.06-.94-2.06-.94-.94-2.06-.94 2.06-2.06.94z\"/><path d=\"M17.41 7.96l-1.37-1.37c-.4-.4-.92-.59-1.43-.59-.52 0-1.04.2-1.43.59L10.3 9.45l-7.72 7.72c-.78.78-.78 2.05 0 2.83L4 21.41c.39.39.9.59 1.41.59.51 0 1.02-.2 1.41-.59l7.78-7.78 2.81-2.81c.8-.78.8-2.07 0-2.86zM5.41 20L4 18.59l7.72-7.72 1.47 1.35L5.41 20z\"/>\n",
              "  </svg>\n",
              "      </button>\n",
              "      \n",
              "  <style>\n",
              "    .colab-df-container {\n",
              "      display:flex;\n",
              "      flex-wrap:wrap;\n",
              "      gap: 12px;\n",
              "    }\n",
              "\n",
              "    .colab-df-convert {\n",
              "      background-color: #E8F0FE;\n",
              "      border: none;\n",
              "      border-radius: 50%;\n",
              "      cursor: pointer;\n",
              "      display: none;\n",
              "      fill: #1967D2;\n",
              "      height: 32px;\n",
              "      padding: 0 0 0 0;\n",
              "      width: 32px;\n",
              "    }\n",
              "\n",
              "    .colab-df-convert:hover {\n",
              "      background-color: #E2EBFA;\n",
              "      box-shadow: 0px 1px 2px rgba(60, 64, 67, 0.3), 0px 1px 3px 1px rgba(60, 64, 67, 0.15);\n",
              "      fill: #174EA6;\n",
              "    }\n",
              "\n",
              "    [theme=dark] .colab-df-convert {\n",
              "      background-color: #3B4455;\n",
              "      fill: #D2E3FC;\n",
              "    }\n",
              "\n",
              "    [theme=dark] .colab-df-convert:hover {\n",
              "      background-color: #434B5C;\n",
              "      box-shadow: 0px 1px 3px 1px rgba(0, 0, 0, 0.15);\n",
              "      filter: drop-shadow(0px 1px 2px rgba(0, 0, 0, 0.3));\n",
              "      fill: #FFFFFF;\n",
              "    }\n",
              "  </style>\n",
              "\n",
              "      <script>\n",
              "        const buttonEl =\n",
              "          document.querySelector('#df-721a1524-7f17-41f0-b3c0-5736d6670622 button.colab-df-convert');\n",
              "        buttonEl.style.display =\n",
              "          google.colab.kernel.accessAllowed ? 'block' : 'none';\n",
              "\n",
              "        async function convertToInteractive(key) {\n",
              "          const element = document.querySelector('#df-721a1524-7f17-41f0-b3c0-5736d6670622');\n",
              "          const dataTable =\n",
              "            await google.colab.kernel.invokeFunction('convertToInteractive',\n",
              "                                                     [key], {});\n",
              "          if (!dataTable) return;\n",
              "\n",
              "          const docLinkHtml = 'Like what you see? Visit the ' +\n",
              "            '<a target=\"_blank\" href=https://colab.research.google.com/notebooks/data_table.ipynb>data table notebook</a>'\n",
              "            + ' to learn more about interactive tables.';\n",
              "          element.innerHTML = '';\n",
              "          dataTable['output_type'] = 'display_data';\n",
              "          await google.colab.output.renderOutput(dataTable, element);\n",
              "          const docLink = document.createElement('div');\n",
              "          docLink.innerHTML = docLinkHtml;\n",
              "          element.appendChild(docLink);\n",
              "        }\n",
              "      </script>\n",
              "    </div>\n",
              "  </div>\n",
              "  "
            ]
          },
          "metadata": {},
          "execution_count": 39
        }
      ]
    },
    {
      "cell_type": "code",
      "source": [
        "# View on: df_sensor01_air"
      ],
      "metadata": {
        "id": "FbZFyr12zuaa"
      },
      "execution_count": null,
      "outputs": []
    },
    {
      "cell_type": "code",
      "source": [
        "df_sensor01_air.describe()"
      ],
      "metadata": {
        "colab": {
          "base_uri": "https://localhost:8080/",
          "height": 300
        },
        "id": "5ERHmd-IwECq",
        "outputId": "c0796131-ff52-4d35-fa99-9f042951718b"
      },
      "execution_count": null,
      "outputs": [
        {
          "output_type": "execute_result",
          "data": {
            "text/plain": [
              "           1.35e-06       9.1792\n",
              "count  3.000000e+03  3000.000000\n",
              "mean   1.500050e-06     1.187713\n",
              "std    8.661697e-08     4.722722\n",
              "min    1.350100e-06    -7.151200\n",
              "25%    1.425075e-06    -2.635050\n",
              "50%    1.500050e-06     1.615850\n",
              "75%    1.575025e-06     4.879975\n",
              "max    1.650000e-06     9.253300"
            ],
            "text/html": [
              "\n",
              "  <div id=\"df-9c51ecf7-f91a-4ec7-991e-73b7ff80f202\">\n",
              "    <div class=\"colab-df-container\">\n",
              "      <div>\n",
              "<style scoped>\n",
              "    .dataframe tbody tr th:only-of-type {\n",
              "        vertical-align: middle;\n",
              "    }\n",
              "\n",
              "    .dataframe tbody tr th {\n",
              "        vertical-align: top;\n",
              "    }\n",
              "\n",
              "    .dataframe thead th {\n",
              "        text-align: right;\n",
              "    }\n",
              "</style>\n",
              "<table border=\"1\" class=\"dataframe\">\n",
              "  <thead>\n",
              "    <tr style=\"text-align: right;\">\n",
              "      <th></th>\n",
              "      <th>1.35e-06</th>\n",
              "      <th>9.1792</th>\n",
              "    </tr>\n",
              "  </thead>\n",
              "  <tbody>\n",
              "    <tr>\n",
              "      <th>count</th>\n",
              "      <td>3.000000e+03</td>\n",
              "      <td>3000.000000</td>\n",
              "    </tr>\n",
              "    <tr>\n",
              "      <th>mean</th>\n",
              "      <td>1.500050e-06</td>\n",
              "      <td>1.187713</td>\n",
              "    </tr>\n",
              "    <tr>\n",
              "      <th>std</th>\n",
              "      <td>8.661697e-08</td>\n",
              "      <td>4.722722</td>\n",
              "    </tr>\n",
              "    <tr>\n",
              "      <th>min</th>\n",
              "      <td>1.350100e-06</td>\n",
              "      <td>-7.151200</td>\n",
              "    </tr>\n",
              "    <tr>\n",
              "      <th>25%</th>\n",
              "      <td>1.425075e-06</td>\n",
              "      <td>-2.635050</td>\n",
              "    </tr>\n",
              "    <tr>\n",
              "      <th>50%</th>\n",
              "      <td>1.500050e-06</td>\n",
              "      <td>1.615850</td>\n",
              "    </tr>\n",
              "    <tr>\n",
              "      <th>75%</th>\n",
              "      <td>1.575025e-06</td>\n",
              "      <td>4.879975</td>\n",
              "    </tr>\n",
              "    <tr>\n",
              "      <th>max</th>\n",
              "      <td>1.650000e-06</td>\n",
              "      <td>9.253300</td>\n",
              "    </tr>\n",
              "  </tbody>\n",
              "</table>\n",
              "</div>\n",
              "      <button class=\"colab-df-convert\" onclick=\"convertToInteractive('df-9c51ecf7-f91a-4ec7-991e-73b7ff80f202')\"\n",
              "              title=\"Convert this dataframe to an interactive table.\"\n",
              "              style=\"display:none;\">\n",
              "        \n",
              "  <svg xmlns=\"http://www.w3.org/2000/svg\" height=\"24px\"viewBox=\"0 0 24 24\"\n",
              "       width=\"24px\">\n",
              "    <path d=\"M0 0h24v24H0V0z\" fill=\"none\"/>\n",
              "    <path d=\"M18.56 5.44l.94 2.06.94-2.06 2.06-.94-2.06-.94-.94-2.06-.94 2.06-2.06.94zm-11 1L8.5 8.5l.94-2.06 2.06-.94-2.06-.94L8.5 2.5l-.94 2.06-2.06.94zm10 10l.94 2.06.94-2.06 2.06-.94-2.06-.94-.94-2.06-.94 2.06-2.06.94z\"/><path d=\"M17.41 7.96l-1.37-1.37c-.4-.4-.92-.59-1.43-.59-.52 0-1.04.2-1.43.59L10.3 9.45l-7.72 7.72c-.78.78-.78 2.05 0 2.83L4 21.41c.39.39.9.59 1.41.59.51 0 1.02-.2 1.41-.59l7.78-7.78 2.81-2.81c.8-.78.8-2.07 0-2.86zM5.41 20L4 18.59l7.72-7.72 1.47 1.35L5.41 20z\"/>\n",
              "  </svg>\n",
              "      </button>\n",
              "      \n",
              "  <style>\n",
              "    .colab-df-container {\n",
              "      display:flex;\n",
              "      flex-wrap:wrap;\n",
              "      gap: 12px;\n",
              "    }\n",
              "\n",
              "    .colab-df-convert {\n",
              "      background-color: #E8F0FE;\n",
              "      border: none;\n",
              "      border-radius: 50%;\n",
              "      cursor: pointer;\n",
              "      display: none;\n",
              "      fill: #1967D2;\n",
              "      height: 32px;\n",
              "      padding: 0 0 0 0;\n",
              "      width: 32px;\n",
              "    }\n",
              "\n",
              "    .colab-df-convert:hover {\n",
              "      background-color: #E2EBFA;\n",
              "      box-shadow: 0px 1px 2px rgba(60, 64, 67, 0.3), 0px 1px 3px 1px rgba(60, 64, 67, 0.15);\n",
              "      fill: #174EA6;\n",
              "    }\n",
              "\n",
              "    [theme=dark] .colab-df-convert {\n",
              "      background-color: #3B4455;\n",
              "      fill: #D2E3FC;\n",
              "    }\n",
              "\n",
              "    [theme=dark] .colab-df-convert:hover {\n",
              "      background-color: #434B5C;\n",
              "      box-shadow: 0px 1px 3px 1px rgba(0, 0, 0, 0.15);\n",
              "      filter: drop-shadow(0px 1px 2px rgba(0, 0, 0, 0.3));\n",
              "      fill: #FFFFFF;\n",
              "    }\n",
              "  </style>\n",
              "\n",
              "      <script>\n",
              "        const buttonEl =\n",
              "          document.querySelector('#df-9c51ecf7-f91a-4ec7-991e-73b7ff80f202 button.colab-df-convert');\n",
              "        buttonEl.style.display =\n",
              "          google.colab.kernel.accessAllowed ? 'block' : 'none';\n",
              "\n",
              "        async function convertToInteractive(key) {\n",
              "          const element = document.querySelector('#df-9c51ecf7-f91a-4ec7-991e-73b7ff80f202');\n",
              "          const dataTable =\n",
              "            await google.colab.kernel.invokeFunction('convertToInteractive',\n",
              "                                                     [key], {});\n",
              "          if (!dataTable) return;\n",
              "\n",
              "          const docLinkHtml = 'Like what you see? Visit the ' +\n",
              "            '<a target=\"_blank\" href=https://colab.research.google.com/notebooks/data_table.ipynb>data table notebook</a>'\n",
              "            + ' to learn more about interactive tables.';\n",
              "          element.innerHTML = '';\n",
              "          dataTable['output_type'] = 'display_data';\n",
              "          await google.colab.output.renderOutput(dataTable, element);\n",
              "          const docLink = document.createElement('div');\n",
              "          docLink.innerHTML = docLinkHtml;\n",
              "          element.appendChild(docLink);\n",
              "        }\n",
              "      </script>\n",
              "    </div>\n",
              "  </div>\n",
              "  "
            ]
          },
          "metadata": {},
          "execution_count": 40
        }
      ]
    },
    {
      "cell_type": "code",
      "source": [
        "# To check for any missing values\n",
        "df_sensor01_air.isna().sum()\n",
        "\n"
      ],
      "metadata": {
        "colab": {
          "base_uri": "https://localhost:8080/"
        },
        "id": "x3cXrykMxVfu",
        "outputId": "0265352a-f415-44be-9057-dab0730c1cf5"
      },
      "execution_count": null,
      "outputs": [
        {
          "output_type": "execute_result",
          "data": {
            "text/plain": [
              "1.35e-06    0\n",
              "9.1792      0\n",
              "dtype: int64"
            ]
          },
          "metadata": {},
          "execution_count": 41
        }
      ]
    },
    {
      "cell_type": "markdown",
      "source": [
        "Non missing values"
      ],
      "metadata": {
        "id": "-cLe5K950KTc"
      }
    },
    {
      "cell_type": "code",
      "source": [
        "df_sensor01_air.keys()"
      ],
      "metadata": {
        "colab": {
          "base_uri": "https://localhost:8080/"
        },
        "id": "V4BszpeGxgyv",
        "outputId": "3820d008-aa57-4b90-d530-467670870c66"
      },
      "execution_count": null,
      "outputs": [
        {
          "output_type": "execute_result",
          "data": {
            "text/plain": [
              "Index(['1.35e-06', '9.1792'], dtype='object')"
            ]
          },
          "metadata": {},
          "execution_count": 42
        }
      ]
    },
    {
      "cell_type": "code",
      "source": [
        "df_sensor01_air.values"
      ],
      "metadata": {
        "colab": {
          "base_uri": "https://localhost:8080/"
        },
        "id": "ATJjRTAbxnC0",
        "outputId": "76b79653-58a0-4e17-d6e0-93435e3abc53"
      },
      "execution_count": null,
      "outputs": [
        {
          "output_type": "execute_result",
          "data": {
            "text/plain": [
              "array([[1.3501e-06, 9.2003e+00],\n",
              "       [1.3502e-06, 9.1968e+00],\n",
              "       [1.3503e-06, 9.1028e+00],\n",
              "       ...,\n",
              "       [1.6498e-06, 3.8361e+00],\n",
              "       [1.6499e-06, 3.9466e+00],\n",
              "       [1.6500e-06, 3.8974e+00]])"
            ]
          },
          "metadata": {},
          "execution_count": 43
        }
      ]
    },
    {
      "cell_type": "code",
      "source": [
        "df_sensor01_air.shape"
      ],
      "metadata": {
        "colab": {
          "base_uri": "https://localhost:8080/"
        },
        "id": "nJsEMj0Bxvpc",
        "outputId": "59ff9bb6-d0aa-47fb-f075-3aa10202d924"
      },
      "execution_count": null,
      "outputs": [
        {
          "output_type": "execute_result",
          "data": {
            "text/plain": [
              "(3000, 2)"
            ]
          },
          "metadata": {},
          "execution_count": 44
        }
      ]
    },
    {
      "cell_type": "code",
      "source": [
        "df_sensor01_air.plot(kind='box', subplots=True, layout=(2,2), sharex=False, sharey=False)\n",
        "plt.show()"
      ],
      "metadata": {
        "colab": {
          "base_uri": "https://localhost:8080/",
          "height": 158
        },
        "id": "hibBwQDlyM2n",
        "outputId": "b1fb8bcc-5332-4e4a-d009-f52ccf536c2b"
      },
      "execution_count": null,
      "outputs": [
        {
          "output_type": "display_data",
          "data": {
            "text/plain": [
              "<Figure size 432x288 with 4 Axes>"
            ],
            "image/png": "[encoded data removed]"
          },
          "metadata": {
            "needs_background": "light"
          }
        }
      ]
    },
    {
      "cell_type": "code",
      "source": [
        "# histograms using pandas plot\n",
        "df_sensor01_air.hist()\n",
        "plt.show()\n",
        "\n"
      ],
      "metadata": {
        "colab": {
          "base_uri": "https://localhost:8080/",
          "height": 294
        },
        "id": "Hnp3i-cmybUe",
        "outputId": "f6c4e980-4eda-448e-d35a-2efda875aab4"
      },
      "execution_count": null,
      "outputs": [
        {
          "output_type": "display_data",
          "data": {
            "text/plain": [
              "<Figure size 432x288 with 2 Axes>"
            ],
            "image/png": "[encoded data removed]"
          },
          "metadata": {
            "needs_background": "light"
          }
        }
      ]
    },
    {
      "cell_type": "code",
      "source": [
        "# Multivariate Plots\n",
        "# Relationships between each attribute\n",
        "sns.pairplot(df_sensor01_air)\n"
      ],
      "metadata": {
        "colab": {
          "base_uri": "https://localhost:8080/",
          "height": 392
        },
        "id": "0evqJx6V1Eo6",
        "outputId": "f98885ae-620f-41da-88f8-d7836753665b"
      },
      "execution_count": null,
      "outputs": [
        {
          "output_type": "execute_result",
          "data": {
            "text/plain": [
              "<seaborn.axisgrid.PairGrid at 0x7fe212f5d0d0>"
            ]
          },
          "metadata": {},
          "execution_count": 47
        },
        {
          "output_type": "display_data",
          "data": {
            "text/plain": [
              "<Figure size 360x360 with 6 Axes>"
            ],
            "image/png": "[encoded data removed]"
          },
          "metadata": {
            "needs_background": "light"
          }
        }
      ]
    },
    {
      "cell_type": "code",
      "source": [
        "\n",
        "\n",
        "# scatter plot matrix\n",
        "from pandas.plotting import scatter_matrix\n",
        "scatter_matrix(df_sensor01_air)\n",
        "plt.show()\n",
        "\n"
      ],
      "metadata": {
        "colab": {
          "base_uri": "https://localhost:8080/",
          "height": 282
        },
        "id": "fvAJSdIo1Pz1",
        "outputId": "d4f19473-482a-4a78-c307-94bf9e9ac290"
      },
      "execution_count": null,
      "outputs": [
        {
          "output_type": "display_data",
          "data": {
            "text/plain": [
              "<Figure size 432x288 with 4 Axes>"
            ],
            "image/png": "[encoded data removed]"
          },
          "metadata": {
            "needs_background": "light"
          }
        }
      ]
    },
    {
      "cell_type": "code",
      "source": [
        "plt.figure(figsize =(20,10))\n",
        "sns.heatmap(df_sensor01_air.corr(), annot =True)"
      ],
      "metadata": {
        "colab": {
          "base_uri": "https://localhost:8080/",
          "height": 634
        },
        "id": "FUg9f05D1cAy",
        "outputId": "25f55c6c-6418-44e2-de02-bae3ea2d84f6"
      },
      "execution_count": null,
      "outputs": [
        {
          "output_type": "execute_result",
          "data": {
            "text/plain": [
              "<matplotlib.axes._subplots.AxesSubplot at 0x7fe2103534c0>"
            ]
          },
          "metadata": {},
          "execution_count": 49
        },
        {
          "output_type": "display_data",
          "data": {
            "text/plain": [
              "<Figure size 1440x720 with 2 Axes>"
            ],
            "image/png": "[encoded data removed]"
          },
          "metadata": {
            "needs_background": "light"
          }
        }
      ]
    },
    {
      "cell_type": "code",
      "source": [
        "# Split-out validation dataset\n",
        "array = df_sensor01_air.values\n",
        "x = array[:,0:1]\n",
        "y = array[:,1]\n",
        "x\n",
        "\n"
      ],
      "metadata": {
        "colab": {
          "base_uri": "https://localhost:8080/"
        },
        "id": "V5OlBg7Z1u-b",
        "outputId": "c7ebde26-58f9-4f2d-b535-5f3c237ae653"
      },
      "execution_count": null,
      "outputs": [
        {
          "output_type": "execute_result",
          "data": {
            "text/plain": [
              "array([[1.3501e-06],\n",
              "       [1.3502e-06],\n",
              "       [1.3503e-06],\n",
              "       ...,\n",
              "       [1.6498e-06],\n",
              "       [1.6499e-06],\n",
              "       [1.6500e-06]])"
            ]
          },
          "metadata": {},
          "execution_count": 52
        }
      ]
    },
    {
      "cell_type": "code",
      "source": [
        "y"
      ],
      "metadata": {
        "colab": {
          "base_uri": "https://localhost:8080/"
        },
        "id": "xe3g0w382KEC",
        "outputId": "13e91e2c-f182-4713-d05d-c76902b91413"
      },
      "execution_count": null,
      "outputs": [
        {
          "output_type": "execute_result",
          "data": {
            "text/plain": [
              "array([9.2003, 9.1968, 9.1028, ..., 3.8361, 3.9466, 3.8974])"
            ]
          },
          "metadata": {},
          "execution_count": 53
        }
      ]
    },
    {
      "cell_type": "code",
      "source": [
        "from sklearn.model_selection import train_test_split"
      ],
      "metadata": {
        "id": "3MrsaBLg2QsN"
      },
      "execution_count": 197,
      "outputs": []
    },
    {
      "cell_type": "code",
      "source": [
        "x_train, x_test, y_train, y_test = train_test_split(x, y, test_size=0.2, random_state=5)"
      ],
      "metadata": {
        "id": "Jt_VSUfQ2SCx"
      },
      "execution_count": 198,
      "outputs": []
    },
    {
      "cell_type": "code",
      "source": [
        "x_train"
      ],
      "metadata": {
        "colab": {
          "base_uri": "https://localhost:8080/"
        },
        "id": "v2W7U-_r2ZSY",
        "outputId": "c48c8e62-314c-4423-dae2-44bd2573abda"
      },
      "execution_count": 199,
      "outputs": [
        {
          "output_type": "execute_result",
          "data": {
            "text/plain": [
              "array([[1.3925e-06],\n",
              "       [1.4663e-06],\n",
              "       [1.3596e-06],\n",
              "       ...,\n",
              "       [1.5225e-06],\n",
              "       [1.5754e-06],\n",
              "       [1.6415e-06]])"
            ]
          },
          "metadata": {},
          "execution_count": 199
        }
      ]
    },
    {
      "cell_type": "code",
      "source": [
        "y_train"
      ],
      "metadata": {
        "id": "Y35XMBTS2fnI"
      },
      "execution_count": null,
      "outputs": []
    },
    {
      "cell_type": "code",
      "source": [
        "x_test"
      ],
      "metadata": {
        "colab": {
          "base_uri": "https://localhost:8080/"
        },
        "id": "envfVx8w2mNE",
        "outputId": "cc161df1-1e4a-44ab-b3c4-a0f5f3955971"
      },
      "execution_count": 201,
      "outputs": [
        {
          "output_type": "execute_result",
          "data": {
            "text/plain": [
              "array([[1.5825e-06],\n",
              "       [1.6246e-06],\n",
              "       [1.5867e-06],\n",
              "       [1.5199e-06],\n",
              "       [1.5434e-06],\n",
              "       [1.4868e-06],\n",
              "       [1.4817e-06],\n",
              "       [1.6020e-06],\n",
              "       [1.5059e-06],\n",
              "       [1.4766e-06],\n",
              "       [1.5256e-06],\n",
              "       [1.4102e-06],\n",
              "       [1.5762e-06],\n",
              "       [1.6060e-06],\n",
              "       [1.3847e-06],\n",
              "       [1.4906e-06],\n",
              "       [1.5932e-06],\n",
              "       [1.3694e-06],\n",
              "       [1.4291e-06],\n",
              "       [1.5359e-06],\n",
              "       [1.4295e-06],\n",
              "       [1.6272e-06],\n",
              "       [1.3547e-06],\n",
              "       [1.3670e-06],\n",
              "       [1.6034e-06],\n",
              "       [1.4974e-06],\n",
              "       [1.4816e-06],\n",
              "       [1.6024e-06],\n",
              "       [1.4770e-06],\n",
              "       [1.6270e-06],\n",
              "       [1.5301e-06],\n",
              "       [1.4390e-06],\n",
              "       [1.4888e-06],\n",
              "       [1.3963e-06],\n",
              "       [1.5263e-06],\n",
              "       [1.6029e-06],\n",
              "       [1.4852e-06],\n",
              "       [1.4559e-06],\n",
              "       [1.5332e-06],\n",
              "       [1.4628e-06],\n",
              "       [1.3778e-06],\n",
              "       [1.5083e-06],\n",
              "       [1.3500e-06],\n",
              "       [1.3831e-06],\n",
              "       [1.6437e-06],\n",
              "       [1.3913e-06],\n",
              "       [1.4690e-06],\n",
              "       [1.6306e-06],\n",
              "       [1.5783e-06],\n",
              "       [1.4220e-06],\n",
              "       [1.4608e-06],\n",
              "       [1.3663e-06],\n",
              "       [1.4539e-06],\n",
              "       [1.3930e-06],\n",
              "       [1.5814e-06],\n",
              "       [1.4571e-06],\n",
              "       [1.4126e-06],\n",
              "       [1.5960e-06],\n",
              "       [1.5028e-06],\n",
              "       [1.5050e-06],\n",
              "       [1.6072e-06],\n",
              "       [1.4374e-06],\n",
              "       [1.3781e-06],\n",
              "       [1.5838e-06],\n",
              "       [1.5150e-06],\n",
              "       [1.5848e-06],\n",
              "       [1.3825e-06],\n",
              "       [1.5032e-06],\n",
              "       [1.4840e-06],\n",
              "       [1.5656e-06],\n",
              "       [1.5655e-06],\n",
              "       [1.4355e-06],\n",
              "       [1.4683e-06],\n",
              "       [1.4168e-06],\n",
              "       [1.5865e-06],\n",
              "       [1.6184e-06],\n",
              "       [1.4453e-06],\n",
              "       [1.6159e-06],\n",
              "       [1.5969e-06],\n",
              "       [1.3646e-06],\n",
              "       [1.3924e-06],\n",
              "       [1.4394e-06],\n",
              "       [1.6426e-06],\n",
              "       [1.5249e-06],\n",
              "       [1.4996e-06],\n",
              "       [1.6247e-06],\n",
              "       [1.3906e-06],\n",
              "       [1.5440e-06],\n",
              "       [1.6358e-06],\n",
              "       [1.3853e-06],\n",
              "       [1.5064e-06],\n",
              "       [1.4121e-06],\n",
              "       [1.4383e-06],\n",
              "       [1.5409e-06],\n",
              "       [1.4965e-06],\n",
              "       [1.5105e-06],\n",
              "       [1.4023e-06],\n",
              "       [1.3568e-06],\n",
              "       [1.5323e-06],\n",
              "       [1.5110e-06],\n",
              "       [1.4086e-06],\n",
              "       [1.4922e-06],\n",
              "       [1.5338e-06],\n",
              "       [1.4564e-06],\n",
              "       [1.5258e-06],\n",
              "       [1.3926e-06],\n",
              "       [1.4338e-06],\n",
              "       [1.5080e-06],\n",
              "       [1.5550e-06],\n",
              "       [1.4951e-06],\n",
              "       [1.3633e-06],\n",
              "       [1.5098e-06],\n",
              "       [1.4340e-06],\n",
              "       [1.5631e-06],\n",
              "       [1.3727e-06],\n",
              "       [1.4879e-06],\n",
              "       [1.5452e-06],\n",
              "       [1.4347e-06],\n",
              "       [1.4841e-06],\n",
              "       [1.5716e-06],\n",
              "       [1.6161e-06],\n",
              "       [1.4789e-06],\n",
              "       [1.3678e-06],\n",
              "       [1.5121e-06],\n",
              "       [1.3597e-06],\n",
              "       [1.5046e-06],\n",
              "       [1.5628e-06],\n",
              "       [1.3512e-06],\n",
              "       [1.4501e-06],\n",
              "       [1.6214e-06],\n",
              "       [1.4942e-06],\n",
              "       [1.4017e-06],\n",
              "       [1.4652e-06],\n",
              "       [1.4466e-06],\n",
              "       [1.4181e-06],\n",
              "       [1.5218e-06],\n",
              "       [1.6443e-06],\n",
              "       [1.3611e-06],\n",
              "       [1.4479e-06],\n",
              "       [1.6430e-06],\n",
              "       [1.4546e-06],\n",
              "       [1.4500e-06],\n",
              "       [1.4956e-06],\n",
              "       [1.4396e-06],\n",
              "       [1.4948e-06],\n",
              "       [1.3912e-06],\n",
              "       [1.5896e-06],\n",
              "       [1.5582e-06],\n",
              "       [1.6213e-06],\n",
              "       [1.3691e-06],\n",
              "       [1.3821e-06],\n",
              "       [1.3987e-06],\n",
              "       [1.3967e-06],\n",
              "       [1.4647e-06],\n",
              "       [1.3732e-06],\n",
              "       [1.3615e-06],\n",
              "       [1.5983e-06],\n",
              "       [1.6230e-06],\n",
              "       [1.4618e-06],\n",
              "       [1.5881e-06],\n",
              "       [1.4445e-06],\n",
              "       [1.4771e-06],\n",
              "       [1.5567e-06],\n",
              "       [1.5435e-06],\n",
              "       [1.3795e-06],\n",
              "       [1.4258e-06],\n",
              "       [1.3845e-06],\n",
              "       [1.4314e-06],\n",
              "       [1.4489e-06],\n",
              "       [1.4843e-06],\n",
              "       [1.4438e-06],\n",
              "       [1.6445e-06],\n",
              "       [1.4962e-06],\n",
              "       [1.6434e-06],\n",
              "       [1.6490e-06],\n",
              "       [1.5198e-06],\n",
              "       [1.3786e-06],\n",
              "       [1.5333e-06],\n",
              "       [1.4842e-06],\n",
              "       [1.4387e-06],\n",
              "       [1.5271e-06],\n",
              "       [1.6397e-06],\n",
              "       [1.4793e-06],\n",
              "       [1.4057e-06],\n",
              "       [1.6388e-06],\n",
              "       [1.5789e-06],\n",
              "       [1.5404e-06],\n",
              "       [1.4855e-06],\n",
              "       [1.3730e-06],\n",
              "       [1.5713e-06],\n",
              "       [1.3731e-06],\n",
              "       [1.3686e-06],\n",
              "       [1.5996e-06],\n",
              "       [1.3673e-06],\n",
              "       [1.6066e-06],\n",
              "       [1.5882e-06],\n",
              "       [1.3719e-06],\n",
              "       [1.3586e-06],\n",
              "       [1.3932e-06],\n",
              "       [1.6233e-06],\n",
              "       [1.5365e-06],\n",
              "       [1.4046e-06],\n",
              "       [1.5750e-06],\n",
              "       [1.3894e-06],\n",
              "       [1.4187e-06],\n",
              "       [1.4650e-06],\n",
              "       [1.5321e-06],\n",
              "       [1.6353e-06],\n",
              "       [1.4107e-06],\n",
              "       [1.5897e-06],\n",
              "       [1.5397e-06],\n",
              "       [1.4113e-06],\n",
              "       [1.5766e-06],\n",
              "       [1.6162e-06],\n",
              "       [1.5097e-06],\n",
              "       [1.4447e-06],\n",
              "       [1.6431e-06],\n",
              "       [1.5540e-06],\n",
              "       [1.5390e-06],\n",
              "       [1.5273e-06],\n",
              "       [1.5751e-06],\n",
              "       [1.5903e-06],\n",
              "       [1.6130e-06],\n",
              "       [1.5681e-06],\n",
              "       [1.6232e-06],\n",
              "       [1.4796e-06],\n",
              "       [1.5885e-06],\n",
              "       [1.5807e-06],\n",
              "       [1.5431e-06],\n",
              "       [1.3799e-06],\n",
              "       [1.5146e-06],\n",
              "       [1.6203e-06],\n",
              "       [1.5683e-06],\n",
              "       [1.4408e-06],\n",
              "       [1.4775e-06],\n",
              "       [1.5879e-06],\n",
              "       [1.4229e-06],\n",
              "       [1.3814e-06],\n",
              "       [1.4893e-06],\n",
              "       [1.4103e-06],\n",
              "       [1.4788e-06],\n",
              "       [1.4833e-06],\n",
              "       [1.4281e-06],\n",
              "       [1.5734e-06],\n",
              "       [1.4075e-06],\n",
              "       [1.6363e-06],\n",
              "       [1.6046e-06],\n",
              "       [1.3504e-06],\n",
              "       [1.4499e-06],\n",
              "       [1.6458e-06],\n",
              "       [1.3683e-06],\n",
              "       [1.3878e-06],\n",
              "       [1.4908e-06],\n",
              "       [1.4198e-06],\n",
              "       [1.3937e-06],\n",
              "       [1.3948e-06],\n",
              "       [1.5598e-06],\n",
              "       [1.5161e-06],\n",
              "       [1.4296e-06],\n",
              "       [1.6285e-06],\n",
              "       [1.3995e-06],\n",
              "       [1.4955e-06],\n",
              "       [1.6196e-06],\n",
              "       [1.4150e-06],\n",
              "       [1.4638e-06],\n",
              "       [1.3980e-06],\n",
              "       [1.3675e-06],\n",
              "       [1.6406e-06],\n",
              "       [1.5620e-06],\n",
              "       [1.4596e-06],\n",
              "       [1.6154e-06],\n",
              "       [1.5230e-06],\n",
              "       [1.3649e-06],\n",
              "       [1.3885e-06],\n",
              "       [1.5241e-06],\n",
              "       [1.4583e-06],\n",
              "       [1.4312e-06],\n",
              "       [1.5221e-06],\n",
              "       [1.4204e-06],\n",
              "       [1.6096e-06],\n",
              "       [1.5042e-06],\n",
              "       [1.3943e-06],\n",
              "       [1.5124e-06],\n",
              "       [1.5566e-06],\n",
              "       [1.5379e-06],\n",
              "       [1.4958e-06],\n",
              "       [1.6192e-06],\n",
              "       [1.6361e-06],\n",
              "       [1.5549e-06],\n",
              "       [1.5883e-06],\n",
              "       [1.6328e-06],\n",
              "       [1.5613e-06],\n",
              "       [1.5026e-06],\n",
              "       [1.4455e-06],\n",
              "       [1.5373e-06],\n",
              "       [1.5847e-06],\n",
              "       [1.5543e-06],\n",
              "       [1.5856e-06],\n",
              "       [1.5433e-06],\n",
              "       [1.4019e-06],\n",
              "       [1.4153e-06],\n",
              "       [1.4255e-06],\n",
              "       [1.6424e-06],\n",
              "       [1.6462e-06],\n",
              "       [1.5342e-06],\n",
              "       [1.6249e-06],\n",
              "       [1.5514e-06],\n",
              "       [1.6337e-06],\n",
              "       [1.6030e-06],\n",
              "       [1.3723e-06],\n",
              "       [1.3766e-06],\n",
              "       [1.5471e-06],\n",
              "       [1.4475e-06],\n",
              "       [1.3515e-06],\n",
              "       [1.4630e-06],\n",
              "       [1.3671e-06],\n",
              "       [1.4078e-06],\n",
              "       [1.6049e-06],\n",
              "       [1.5378e-06],\n",
              "       [1.4151e-06],\n",
              "       [1.3551e-06],\n",
              "       [1.5940e-06],\n",
              "       [1.4807e-06],\n",
              "       [1.5979e-06],\n",
              "       [1.3682e-06],\n",
              "       [1.5976e-06],\n",
              "       [1.4941e-06],\n",
              "       [1.6305e-06],\n",
              "       [1.4595e-06],\n",
              "       [1.4557e-06],\n",
              "       [1.3554e-06],\n",
              "       [1.4480e-06],\n",
              "       [1.3977e-06],\n",
              "       [1.6354e-06],\n",
              "       [1.5696e-06],\n",
              "       [1.4515e-06],\n",
              "       [1.6493e-06],\n",
              "       [1.5605e-06],\n",
              "       [1.5457e-06],\n",
              "       [1.4634e-06],\n",
              "       [1.4968e-06],\n",
              "       [1.3677e-06],\n",
              "       [1.5956e-06],\n",
              "       [1.6093e-06],\n",
              "       [1.5795e-06],\n",
              "       [1.5008e-06],\n",
              "       [1.4324e-06],\n",
              "       [1.4931e-06],\n",
              "       [1.5930e-06],\n",
              "       [1.4614e-06],\n",
              "       [1.6395e-06],\n",
              "       [1.6167e-06],\n",
              "       [1.4704e-06],\n",
              "       [1.5554e-06],\n",
              "       [1.5474e-06],\n",
              "       [1.4960e-06],\n",
              "       [1.4930e-06],\n",
              "       [1.6452e-06],\n",
              "       [1.5995e-06],\n",
              "       [1.4894e-06],\n",
              "       [1.4305e-06],\n",
              "       [1.5952e-06],\n",
              "       [1.4211e-06],\n",
              "       [1.3964e-06],\n",
              "       [1.4080e-06],\n",
              "       [1.4403e-06],\n",
              "       [1.5239e-06],\n",
              "       [1.3702e-06],\n",
              "       [1.3532e-06],\n",
              "       [1.5745e-06],\n",
              "       [1.6085e-06],\n",
              "       [1.4752e-06],\n",
              "       [1.4944e-06],\n",
              "       [1.4623e-06],\n",
              "       [1.6103e-06],\n",
              "       [1.5695e-06],\n",
              "       [1.3608e-06],\n",
              "       [1.3793e-06],\n",
              "       [1.5920e-06],\n",
              "       [1.5087e-06],\n",
              "       [1.6435e-06],\n",
              "       [1.5177e-06],\n",
              "       [1.3966e-06],\n",
              "       [1.5665e-06],\n",
              "       [1.6115e-06],\n",
              "       [1.5609e-06],\n",
              "       [1.4691e-06],\n",
              "       [1.3720e-06],\n",
              "       [1.5726e-06],\n",
              "       [1.4978e-06],\n",
              "       [1.5228e-06],\n",
              "       [1.4876e-06],\n",
              "       [1.5402e-06],\n",
              "       [1.4234e-06],\n",
              "       [1.5908e-06],\n",
              "       [1.4371e-06],\n",
              "       [1.4949e-06],\n",
              "       [1.6186e-06],\n",
              "       [1.6036e-06],\n",
              "       [1.3650e-06],\n",
              "       [1.5385e-06],\n",
              "       [1.6083e-06],\n",
              "       [1.5112e-06],\n",
              "       [1.3642e-06],\n",
              "       [1.6107e-06],\n",
              "       [1.3746e-06],\n",
              "       [1.6419e-06],\n",
              "       [1.3539e-06],\n",
              "       [1.5834e-06],\n",
              "       [1.5953e-06],\n",
              "       [1.4989e-06],\n",
              "       [1.4122e-06],\n",
              "       [1.4319e-06],\n",
              "       [1.4167e-06],\n",
              "       [1.4598e-06],\n",
              "       [1.3526e-06],\n",
              "       [1.4366e-06],\n",
              "       [1.6350e-06],\n",
              "       [1.5393e-06],\n",
              "       [1.4534e-06],\n",
              "       [1.6157e-06],\n",
              "       [1.6301e-06],\n",
              "       [1.4089e-06],\n",
              "       [1.5886e-06],\n",
              "       [1.5916e-06],\n",
              "       [1.3687e-06],\n",
              "       [1.4718e-06],\n",
              "       [1.5274e-06],\n",
              "       [1.5607e-06],\n",
              "       [1.6239e-06],\n",
              "       [1.5191e-06],\n",
              "       [1.4976e-06],\n",
              "       [1.3829e-06],\n",
              "       [1.5259e-06],\n",
              "       [1.5781e-06],\n",
              "       [1.5180e-06],\n",
              "       [1.3817e-06],\n",
              "       [1.4871e-06],\n",
              "       [1.5895e-06],\n",
              "       [1.6269e-06],\n",
              "       [1.5420e-06],\n",
              "       [1.5392e-06],\n",
              "       [1.6187e-06],\n",
              "       [1.4485e-06],\n",
              "       [1.5172e-06],\n",
              "       [1.5347e-06],\n",
              "       [1.4567e-06],\n",
              "       [1.5984e-06],\n",
              "       [1.5989e-06],\n",
              "       [1.5541e-06],\n",
              "       [1.4581e-06],\n",
              "       [1.5732e-06],\n",
              "       [1.3533e-06],\n",
              "       [1.6408e-06],\n",
              "       [1.3860e-06],\n",
              "       [1.6015e-06],\n",
              "       [1.3565e-06],\n",
              "       [1.3952e-06],\n",
              "       [1.4021e-06],\n",
              "       [1.5396e-06],\n",
              "       [1.6050e-06],\n",
              "       [1.6444e-06],\n",
              "       [1.4407e-06],\n",
              "       [1.5265e-06],\n",
              "       [1.5907e-06],\n",
              "       [1.4820e-06],\n",
              "       [1.4565e-06],\n",
              "       [1.4111e-06],\n",
              "       [1.5487e-06],\n",
              "       [1.5556e-06],\n",
              "       [1.4073e-06],\n",
              "       [1.3502e-06],\n",
              "       [1.4946e-06],\n",
              "       [1.4739e-06],\n",
              "       [1.5654e-06],\n",
              "       [1.6372e-06],\n",
              "       [1.4536e-06],\n",
              "       [1.4129e-06],\n",
              "       [1.5337e-06],\n",
              "       [1.6021e-06],\n",
              "       [1.5871e-06],\n",
              "       [1.4197e-06],\n",
              "       [1.5974e-06],\n",
              "       [1.5812e-06],\n",
              "       [1.4284e-06],\n",
              "       [1.3797e-06],\n",
              "       [1.5023e-06],\n",
              "       [1.6404e-06],\n",
              "       [1.4810e-06],\n",
              "       [1.4854e-06],\n",
              "       [1.3762e-06],\n",
              "       [1.5563e-06],\n",
              "       [1.3520e-06],\n",
              "       [1.5446e-06],\n",
              "       [1.5057e-06],\n",
              "       [1.6396e-06],\n",
              "       [1.6287e-06],\n",
              "       [1.5576e-06],\n",
              "       [1.4523e-06],\n",
              "       [1.6177e-06],\n",
              "       [1.6449e-06],\n",
              "       [1.5933e-06],\n",
              "       [1.5992e-06],\n",
              "       [1.5520e-06],\n",
              "       [1.3726e-06],\n",
              "       [1.4267e-06],\n",
              "       [1.4059e-06],\n",
              "       [1.5675e-06],\n",
              "       [1.6067e-06],\n",
              "       [1.5154e-06],\n",
              "       [1.4432e-06],\n",
              "       [1.4099e-06],\n",
              "       [1.5571e-06],\n",
              "       [1.5985e-06],\n",
              "       [1.4797e-06],\n",
              "       [1.3792e-06],\n",
              "       [1.6165e-06],\n",
              "       [1.6370e-06],\n",
              "       [1.4814e-06],\n",
              "       [1.4665e-06],\n",
              "       [1.3769e-06],\n",
              "       [1.6375e-06],\n",
              "       [1.5614e-06],\n",
              "       [1.3986e-06],\n",
              "       [1.5761e-06],\n",
              "       [1.5406e-06],\n",
              "       [1.3973e-06],\n",
              "       [1.4680e-06],\n",
              "       [1.4963e-06],\n",
              "       [1.4363e-06],\n",
              "       [1.4137e-06],\n",
              "       [1.5684e-06],\n",
              "       [1.4110e-06],\n",
              "       [1.6483e-06],\n",
              "       [1.6324e-06],\n",
              "       [1.3911e-06],\n",
              "       [1.4006e-06],\n",
              "       [1.4549e-06],\n",
              "       [1.3569e-06],\n",
              "       [1.5923e-06],\n",
              "       [1.6205e-06],\n",
              "       [1.4184e-06],\n",
              "       [1.4829e-06],\n",
              "       [1.4106e-06],\n",
              "       [1.3748e-06],\n",
              "       [1.3895e-06],\n",
              "       [1.4152e-06],\n",
              "       [1.5111e-06],\n",
              "       [1.5677e-06],\n",
              "       [1.6477e-06],\n",
              "       [1.6191e-06],\n",
              "       [1.4825e-06],\n",
              "       [1.4643e-06],\n",
              "       [1.5659e-06],\n",
              "       [1.4049e-06],\n",
              "       [1.6377e-06],\n",
              "       [1.3676e-06],\n",
              "       [1.6043e-06],\n",
              "       [1.4606e-06],\n",
              "       [1.4604e-06],\n",
              "       [1.3983e-06],\n",
              "       [1.5720e-06],\n",
              "       [1.5132e-06],\n",
              "       [1.5672e-06],\n",
              "       [1.6058e-06],\n",
              "       [1.4576e-06],\n",
              "       [1.6463e-06],\n",
              "       [1.6296e-06],\n",
              "       [1.4684e-06],\n",
              "       [1.3942e-06],\n",
              "       [1.5147e-06],\n",
              "       [1.5461e-06],\n",
              "       [1.6113e-06],\n",
              "       [1.4502e-06],\n",
              "       [1.5375e-06],\n",
              "       [1.3775e-06],\n",
              "       [1.6048e-06],\n",
              "       [1.4389e-06],\n",
              "       [1.4297e-06],\n",
              "       [1.5878e-06],\n",
              "       [1.4846e-06],\n",
              "       [1.4289e-06],\n",
              "       [1.4201e-06],\n",
              "       [1.4933e-06],\n",
              "       [1.4603e-06],\n",
              "       [1.4848e-06],\n",
              "       [1.4939e-06],\n",
              "       [1.6000e-06],\n",
              "       [1.3910e-06],\n",
              "       [1.5830e-06],\n",
              "       [1.6473e-06],\n",
              "       [1.3527e-06],\n",
              "       [1.4189e-06],\n",
              "       [1.4947e-06],\n",
              "       [1.3626e-06],\n",
              "       [1.5479e-06],\n",
              "       [1.5134e-06],\n",
              "       [1.4043e-06],\n",
              "       [1.6491e-06],\n",
              "       [1.3631e-06],\n",
              "       [1.4195e-06]])"
            ]
          },
          "metadata": {},
          "execution_count": 201
        }
      ]
    },
    {
      "cell_type": "code",
      "source": [
        "y_test"
      ],
      "metadata": {
        "colab": {
          "base_uri": "https://localhost:8080/"
        },
        "id": "dUdC2-G82nVO",
        "outputId": "890f4a49-6ed6-42df-e946-9b30e1e81214"
      },
      "execution_count": 202,
      "outputs": [
        {
          "output_type": "execute_result",
          "data": {
            "text/plain": [
              "array([-2.2640e+00,  9.4703e-01, -1.8617e+00, -8.1509e+00, -7.2274e+00,\n",
              "       -3.5163e+00, -2.6867e+00, -5.9084e-01, -6.6194e+00, -1.9760e+00,\n",
              "       -8.4848e+00,  4.8176e+00, -2.7941e+00, -1.7705e-01,  6.3416e+00,\n",
              "       -4.2914e+00, -1.2236e+00,  7.0333e+00,  3.2151e+00, -7.7592e+00,\n",
              "        3.1216e+00,  1.1684e+00,  7.7798e+00,  7.2385e+00, -4.3902e-01,\n",
              "       -5.2060e+00, -2.8379e+00, -4.9549e-01, -2.0921e+00,  1.4873e+00,\n",
              "       -8.4212e+00,  2.3293e+00, -3.8441e+00,  5.5180e+00, -8.3901e+00,\n",
              "       -2.7330e-01, -3.3998e+00,  5.1592e-01, -8.0798e+00, -8.7203e-02,\n",
              "        6.5299e+00, -7.0404e+00,  7.8831e+00,  6.2797e+00,  2.0831e+00,\n",
              "        5.8038e+00, -1.1607e+00,  1.1936e+00, -2.6047e+00,  3.7166e+00,\n",
              "        1.1969e-01,  7.0900e+00,  7.5065e-01,  5.6474e+00, -2.4308e+00,\n",
              "        3.5968e-01,  4.4644e+00, -8.1911e-01, -6.2337e+00, -6.4508e+00,\n",
              "        1.8676e-01,  2.4680e+00,  6.5194e+00, -2.0525e+00, -7.8878e+00,\n",
              "       -1.9602e+00,  6.3879e+00, -6.1048e+00, -3.1619e+00, -4.1075e+00,\n",
              "       -3.8983e+00,  2.6106e+00, -9.2416e-01,  4.1399e+00, -1.9693e+00,\n",
              "        7.8483e-01,  1.6745e+00,  3.3383e-01, -1.0332e+00,  7.2408e+00,\n",
              "        5.8714e+00,  2.2710e+00,  1.8276e+00, -8.3353e+00, -5.7830e+00,\n",
              "        1.0170e+00,  5.9530e+00, -7.0068e+00,  1.6895e+00,  6.2036e+00,\n",
              "       -6.8441e+00,  4.6013e+00,  2.2908e+00, -7.5362e+00, -5.2714e+00,\n",
              "       -7.3844e+00,  5.2572e+00,  7.7674e+00, -8.2302e+00, -7.4291e+00,\n",
              "        4.9117e+00, -4.4929e+00, -8.1298e+00,  5.5032e-01, -8.4551e+00,\n",
              "        5.6809e+00,  2.7432e+00, -6.9154e+00, -5.5160e+00, -5.0239e+00,\n",
              "        7.4919e+00, -7.2322e+00,  2.7311e+00, -4.4145e+00,  6.8149e+00,\n",
              "       -3.8409e+00, -6.8372e+00,  2.7122e+00, -3.1987e+00, -3.5262e+00,\n",
              "        5.7028e-01, -2.5329e+00,  7.1776e+00, -7.6203e+00,  7.5384e+00,\n",
              "       -6.6711e+00, -4.4096e+00,  8.0429e+00,  1.2390e+00,  7.8325e-01,\n",
              "       -4.8621e+00,  5.1309e+00, -5.8981e-01,  1.5186e+00,  4.1265e+00,\n",
              "       -8.3978e+00,  2.0708e+00,  7.4699e+00,  1.4649e+00,  2.2633e+00,\n",
              "        7.1093e-01,  1.1752e+00, -5.0364e+00,  2.2177e+00, -4.9718e+00,\n",
              "        5.8637e+00, -1.6046e+00, -5.0295e+00,  8.7240e-01,  7.1020e+00,\n",
              "        6.4765e+00,  5.4238e+00,  5.5201e+00, -4.2358e-01,  6.9630e+00,\n",
              "        7.1975e+00, -7.6579e-01,  9.0258e-01, -1.0742e-01, -1.7038e+00,\n",
              "        1.8929e+00, -2.2511e+00, -5.2986e+00, -7.0289e+00,  6.5663e+00,\n",
              "        3.5463e+00,  6.3819e+00,  2.8594e+00,  1.2475e+00, -3.2057e+00,\n",
              "        1.8136e+00,  2.0842e+00, -5.2045e+00,  1.9508e+00,  2.4465e+00,\n",
              "       -8.1020e+00,  6.4900e+00, -8.1866e+00, -3.1494e+00,  2.2831e+00,\n",
              "       -8.5423e+00,  1.9668e+00, -2.4877e+00,  5.0180e+00,  1.8822e+00,\n",
              "       -2.6302e+00, -7.3613e+00, -3.5899e+00,  6.8584e+00, -3.4143e+00,\n",
              "        6.8921e+00,  7.1378e+00, -6.1356e-01,  7.0706e+00, -9.0553e-02,\n",
              "       -1.7183e+00,  7.0135e+00,  7.5180e+00,  5.7772e+00,  1.1015e+00,\n",
              "       -7.7723e+00,  5.1210e+00, -3.0551e+00,  6.0385e+00,  3.9457e+00,\n",
              "       -4.8942e-01, -8.2120e+00,  1.6213e+00,  4.7307e+00, -1.3511e+00,\n",
              "       -7.4090e+00,  4.5954e+00, -2.8401e+00,  5.3428e-01, -7.2116e+00,\n",
              "        1.7624e+00,  1.9310e+00, -5.7729e+00, -7.6465e+00, -8.4655e+00,\n",
              "       -2.9560e+00, -1.5312e+00,  3.9133e-01, -3.7998e+00,  9.5391e-01,\n",
              "       -2.6645e+00, -1.7604e+00, -2.5511e+00, -7.0977e+00,  6.4627e+00,\n",
              "       -7.9473e+00,  6.8538e-01, -3.6875e+00,  2.2962e+00, -2.2788e+00,\n",
              "       -1.7755e+00,  3.6848e+00,  6.5932e+00, -4.1248e+00,  4.6796e+00,\n",
              "       -2.4249e+00, -3.1104e+00,  3.3018e+00, -3.2530e+00,  4.7409e+00,\n",
              "        1.8209e+00, -2.4436e-01,  7.9220e+00,  1.1931e+00,  2.2623e+00,\n",
              "        7.1430e+00,  6.0533e+00, -4.3058e+00,  3.8796e+00,  5.7010e+00,\n",
              "        5.7343e+00, -4.8702e+00, -8.0123e+00,  3.0803e+00,  1.1692e+00,\n",
              "        5.4516e+00, -4.9936e+00,  1.0572e+00,  4.3142e+00, -3.9543e-01,\n",
              "        5.5262e+00,  7.1660e+00,  2.0075e+00, -4.6766e+00,  2.2505e-01,\n",
              "        5.5958e-01, -8.3230e+00,  7.3401e+00,  6.0640e+00, -8.4157e+00,\n",
              "        1.9356e-01,  2.9072e+00, -8.5713e+00,  3.8963e+00,  1.8149e-02,\n",
              "       -6.3261e+00,  5.6855e+00, -7.6084e+00, -5.2587e+00, -7.7047e+00,\n",
              "       -5.1431e+00,  7.9886e-01,  1.5851e+00, -5.6276e+00, -1.4469e+00,\n",
              "        1.6852e+00, -4.6686e+00, -6.3073e+00,  1.6282e+00, -7.7634e+00,\n",
              "       -2.0392e+00, -5.5307e+00, -2.0533e+00, -7.0506e+00,  5.2957e+00,\n",
              "        4.1927e+00,  3.5965e+00,  2.2442e+00,  2.2829e+00, -7.9731e+00,\n",
              "        1.0140e+00, -5.7004e+00,  1.8335e+00, -6.3364e-01,  6.9899e+00,\n",
              "        6.8821e+00, -6.5456e+00,  1.5053e+00,  7.9714e+00, -3.5921e-01,\n",
              "        7.1745e+00,  4.8087e+00, -1.2129e-01, -7.5592e+00,  4.3273e+00,\n",
              "        7.7833e+00, -1.0083e+00, -2.7920e+00, -9.2564e-01,  7.2135e+00,\n",
              "       -8.6031e-01, -4.6929e+00,  1.3942e+00,  2.2132e-01,  6.2111e-01,\n",
              "        7.6916e+00,  1.3508e+00,  5.5037e+00,  1.7414e+00, -3.6175e+00,\n",
              "        1.0348e+00,  2.2131e+00, -4.5741e+00, -6.8264e+00, -2.4097e-01,\n",
              "       -5.2329e+00,  7.1728e+00, -1.0631e+00, -1.3765e-01, -2.3784e+00,\n",
              "       -5.8993e+00,  2.8813e+00, -4.7125e+00, -1.3379e+00, -1.9421e-01,\n",
              "        1.8735e+00,  6.7934e-01, -1.1623e+00, -5.5489e+00, -6.4132e+00,\n",
              "       -5.1235e+00, -4.6185e+00,  1.9791e+00, -4.9466e-01, -4.0230e+00,\n",
              "        3.0839e+00, -1.0728e+00,  3.7372e+00,  5.6197e+00,  5.0738e+00,\n",
              "        2.1436e+00, -8.4893e+00,  7.1175e+00,  7.7653e+00, -3.0242e+00,\n",
              "       -2.1749e-03, -1.9548e+00, -4.9818e+00, -3.0854e-02,  8.8751e-02,\n",
              "       -3.8054e+00,  7.3974e+00,  6.5463e+00, -1.1290e+00, -6.9619e+00,\n",
              "        1.9178e+00, -8.0934e+00,  5.6298e+00, -4.1932e+00, -3.0482e-02,\n",
              "       -4.9179e+00, -1.1171e+00,  6.9391e+00, -3.1937e+00, -5.4097e+00,\n",
              "       -8.4152e+00, -3.8298e+00, -7.5364e+00,  3.6831e+00, -1.5071e+00,\n",
              "        2.4006e+00, -5.0334e+00,  7.6249e-01, -3.0185e-01,  7.3491e+00,\n",
              "       -7.6276e+00, -6.5059e-02, -7.4424e+00,  7.4816e+00,  2.5247e-02,\n",
              "        6.9123e+00,  1.9996e+00,  7.8303e+00, -2.1210e+00, -9.3363e-01,\n",
              "       -5.5436e+00,  4.4853e+00,  2.8870e+00,  4.2180e+00,  1.4174e-01,\n",
              "        7.7685e+00,  2.7223e+00,  1.8270e+00, -7.6094e+00,  8.5454e-01,\n",
              "        5.2316e-01,  1.5443e+00,  4.7884e+00, -1.6866e+00, -1.3287e+00,\n",
              "        6.9935e+00, -1.3421e+00, -8.4774e+00, -4.7519e+00,  1.0614e+00,\n",
              "       -8.3176e+00, -5.4766e+00,  6.2823e+00, -8.5393e+00, -2.6784e+00,\n",
              "       -8.2006e+00,  6.4518e+00, -3.5485e+00, -1.5721e+00,  1.2677e+00,\n",
              "       -7.2103e+00, -7.6925e+00,  8.2209e-01,  1.3075e+00, -8.3717e+00,\n",
              "       -7.9258e+00,  5.3548e-01, -6.5719e-01, -6.2847e-01, -5.6330e+00,\n",
              "        3.5400e-01, -3.0946e+00,  7.8432e+00,  2.0354e+00,  6.1570e+00,\n",
              "       -3.1981e-01,  7.7755e+00,  5.5749e+00,  5.2843e+00, -7.7057e+00,\n",
              "       -1.7182e-04,  2.0618e+00,  2.1058e+00, -8.5241e+00, -1.3343e+00,\n",
              "       -2.9176e+00,  4.9741e-01,  4.6243e+00, -6.3767e+00, -5.6004e+00,\n",
              "        4.8239e+00,  7.9478e+00, -4.8709e+00, -1.6387e+00, -4.1792e+00,\n",
              "        1.7486e+00,  8.0371e-01,  4.3892e+00, -8.1647e+00, -5.7414e-01,\n",
              "       -1.9849e+00,  3.8235e+00, -7.4815e-01, -2.6021e+00,  3.2241e+00,\n",
              "        6.5166e+00, -6.3323e+00,  2.1789e+00, -2.9348e+00, -3.4166e+00,\n",
              "        6.7585e+00, -5.4332e+00,  7.7908e+00, -6.7961e+00, -6.7282e+00,\n",
              "        2.1254e+00,  1.2884e+00, -5.3062e+00,  9.7263e-01,  4.1999e-01,\n",
              "        1.8789e+00, -1.3550e+00, -4.4120e-01, -5.7566e+00,  6.8352e+00,\n",
              "        3.5440e+00,  4.8581e+00, -3.9848e+00,  1.2129e-01, -8.0609e+00,\n",
              "        2.0322e+00,  4.7228e+00, -5.1815e+00, -6.4488e-01, -2.4690e+00,\n",
              "        6.6035e+00,  6.0465e-01,  1.7144e+00, -2.7704e+00, -7.1905e-01,\n",
              "        6.7142e+00,  1.5324e+00, -4.5573e+00,  5.4369e+00, -2.9529e+00,\n",
              "       -7.3978e+00,  5.4612e+00, -8.1992e-01, -5.2333e+00,  2.4909e+00,\n",
              "        4.2695e+00, -3.7771e+00,  4.6333e+00,  2.0676e+00,  1.5304e+00,\n",
              "        6.0095e+00,  5.3088e+00,  6.8307e-01,  7.6698e+00, -1.2822e+00,\n",
              "        7.0091e-01,  4.1067e+00, -2.8919e+00,  4.6503e+00,  6.8128e+00,\n",
              "        6.0724e+00,  4.3614e+00, -7.4809e+00, -3.8569e+00,  2.3550e+00,\n",
              "        8.2928e-01, -2.8739e+00, -5.7085e-01, -4.2818e+00,  5.0723e+00,\n",
              "        1.7927e+00,  7.2362e+00, -2.5779e-01,  1.6586e-01,  1.3355e-01,\n",
              "        5.4829e+00, -3.2687e+00, -7.5717e+00, -3.9501e+00, -2.4170e-01,\n",
              "        3.4973e-01,  2.0400e+00,  1.2229e+00, -1.0891e+00,  5.7753e+00,\n",
              "       -7.9644e+00, -6.8695e+00,  2.0136e-01,  1.0994e+00, -7.7325e+00,\n",
              "        6.7697e+00, -3.0251e-01,  2.0898e+00,  3.1529e+00, -1.7452e+00,\n",
              "       -3.3230e+00,  3.2139e+00,  3.7887e+00, -4.6213e+00,  2.6739e-02,\n",
              "       -3.3044e+00, -4.8830e+00, -7.3171e-01,  5.9236e+00, -2.1366e+00,\n",
              "        2.4084e+00,  7.7542e+00,  3.8611e+00, -4.8719e+00,  7.1986e+00,\n",
              "       -6.5328e+00, -7.7680e+00,  4.9573e+00,  2.5174e+00,  7.3064e+00,\n",
              "        3.9829e+00])"
            ]
          },
          "metadata": {},
          "execution_count": 202
        }
      ]
    }
  ]
}